{
 "cells": [
  {
   "cell_type": "markdown",
   "id": "e3d6d2eb",
   "metadata": {},
   "source": [
    "# PDS ASSIGNMENT "
   ]
  },
  {
   "cell_type": "markdown",
   "id": "0b901a83",
   "metadata": {},
   "source": [
    "Step 1 : collection of raw data  "
   ]
  },
  {
   "cell_type": "code",
   "execution_count": 48,
   "id": "dbc8093f",
   "metadata": {},
   "outputs": [
    {
     "name": "stdout",
     "output_type": "stream",
     "text": [
      "  Height  Weight  Age  Grip strength  Frailty \n",
      "0   65.8     112   30             30        N \n",
      "1   71.5     136   19             31        N \n",
      "2   69.4     153   45             29        N \n",
      "3   68.2     142   22             28        Y \n",
      "4   67.8     144   29             24        Y \n"
     ]
    }
   ],
   "source": [
    "import pandas as pd \n",
    "raw_data = pd.read_csv(\"Downloads/pds-assignment-master/Q2/data_raw/raw_data.csv\")\n",
    "print(raw_data.head())"
   ]
  },
  {
   "cell_type": "code",
   "execution_count": 49,
   "id": "f34777be",
   "metadata": {},
   "outputs": [
    {
     "name": "stdout",
     "output_type": "stream",
     "text": [
      "<class 'pandas.core.frame.DataFrame'>\n",
      "RangeIndex: 10 entries, 0 to 9\n",
      "Data columns (total 5 columns):\n",
      " #   Column          Non-Null Count  Dtype \n",
      "---  ------          --------------  ----- \n",
      " 0   Height          10 non-null     object\n",
      " 1   Weight          10 non-null     object\n",
      " 2   Age             10 non-null     object\n",
      " 3   Grip strength   10 non-null     object\n",
      " 4   Frailty         10 non-null     object\n",
      "dtypes: object(5)\n",
      "memory usage: 532.0+ bytes\n"
     ]
    }
   ],
   "source": [
    "raw_data.info()"
   ]
  },
  {
   "cell_type": "code",
   "execution_count": 50,
   "id": "213e8334",
   "metadata": {},
   "outputs": [],
   "source": [
    "raw_data = raw_data.dropna()\n"
   ]
  },
  {
   "cell_type": "code",
   "execution_count": 75,
   "id": "ef9afa05",
   "metadata": {},
   "outputs": [],
   "source": [
    "raw_data = raw_data.drop_duplicates()"
   ]
  },
  {
   "cell_type": "code",
   "execution_count": 76,
   "id": "82ee546e",
   "metadata": {},
   "outputs": [
    {
     "data": {
      "text/html": [
       "<div>\n",
       "<style scoped>\n",
       "    .dataframe tbody tr th:only-of-type {\n",
       "        vertical-align: middle;\n",
       "    }\n",
       "\n",
       "    .dataframe tbody tr th {\n",
       "        vertical-align: top;\n",
       "    }\n",
       "\n",
       "    .dataframe thead th {\n",
       "        text-align: right;\n",
       "    }\n",
       "</style>\n",
       "<table border=\"1\" class=\"dataframe\">\n",
       "  <thead>\n",
       "    <tr style=\"text-align: right;\">\n",
       "      <th></th>\n",
       "      <th>height</th>\n",
       "      <th>weight</th>\n",
       "      <th>age</th>\n",
       "      <th>grip_strength</th>\n",
       "      <th>frailty</th>\n",
       "    </tr>\n",
       "  </thead>\n",
       "  <tbody>\n",
       "    <tr>\n",
       "      <th>0</th>\n",
       "      <td>65.8</td>\n",
       "      <td>112</td>\n",
       "      <td>30</td>\n",
       "      <td>30</td>\n",
       "      <td>0</td>\n",
       "    </tr>\n",
       "    <tr>\n",
       "      <th>1</th>\n",
       "      <td>71.5</td>\n",
       "      <td>136</td>\n",
       "      <td>19</td>\n",
       "      <td>31</td>\n",
       "      <td>0</td>\n",
       "    </tr>\n",
       "    <tr>\n",
       "      <th>2</th>\n",
       "      <td>69.4</td>\n",
       "      <td>153</td>\n",
       "      <td>45</td>\n",
       "      <td>29</td>\n",
       "      <td>0</td>\n",
       "    </tr>\n",
       "    <tr>\n",
       "      <th>3</th>\n",
       "      <td>68.2</td>\n",
       "      <td>142</td>\n",
       "      <td>22</td>\n",
       "      <td>28</td>\n",
       "      <td>1</td>\n",
       "    </tr>\n",
       "    <tr>\n",
       "      <th>4</th>\n",
       "      <td>67.8</td>\n",
       "      <td>144</td>\n",
       "      <td>29</td>\n",
       "      <td>24</td>\n",
       "      <td>1</td>\n",
       "    </tr>\n",
       "  </tbody>\n",
       "</table>\n",
       "</div>"
      ],
      "text/plain": [
       "  height weight age grip_strength  frailty\n",
       "0   65.8    112  30            30        0\n",
       "1   71.5    136  19            31        0\n",
       "2   69.4    153  45            29        0\n",
       "3   68.2    142  22            28        1\n",
       "4   67.8    144  29            24        1"
      ]
     },
     "execution_count": 76,
     "metadata": {},
     "output_type": "execute_result"
    }
   ],
   "source": [
    "raw_data.head()"
   ]
  },
  {
   "cell_type": "code",
   "execution_count": 67,
   "id": "f467aaa6",
   "metadata": {},
   "outputs": [],
   "source": [
    "data_frame_obj = raw_data.select_dtypes(['object'])\n",
    "#strip the trailing spaces\n",
    "raw_data[data_frame_obj.columns] = data_frame_obj.apply(lambda x: x.str.strip())\n",
    "raw_data.columns = raw_data.columns.str.strip()"
   ]
  },
  {
   "cell_type": "code",
   "execution_count": 68,
   "id": "f49d550f",
   "metadata": {},
   "outputs": [
    {
     "name": "stdout",
     "output_type": "stream",
     "text": [
      "  Height Weight Age Grip strength Frailty\n",
      "0   65.8    112  30            30       N\n",
      "1   71.5    136  19            31       N\n",
      "2   69.4    153  45            29       N\n",
      "3   68.2    142  22            28       Y\n",
      "4   67.8    144  29            24       Y\n"
     ]
    }
   ],
   "source": [
    "print(raw_data.head())"
   ]
  },
  {
   "cell_type": "code",
   "execution_count": 69,
   "id": "b0534f8f",
   "metadata": {},
   "outputs": [],
   "source": [
    "raw_data.rename(columns = {'Height':'height', \n",
    "                       'Weight':'weight',\n",
    "                       'Age':'age',\n",
    "                        'Grip strength':'grip_strength',\n",
    "                         'Frailty':'frailty'}, inplace = True)"
   ]
  },
  {
   "cell_type": "code",
   "execution_count": 70,
   "id": "4f2e9a6c",
   "metadata": {},
   "outputs": [
    {
     "data": {
      "text/html": [
       "<div>\n",
       "<style scoped>\n",
       "    .dataframe tbody tr th:only-of-type {\n",
       "        vertical-align: middle;\n",
       "    }\n",
       "\n",
       "    .dataframe tbody tr th {\n",
       "        vertical-align: top;\n",
       "    }\n",
       "\n",
       "    .dataframe thead th {\n",
       "        text-align: right;\n",
       "    }\n",
       "</style>\n",
       "<table border=\"1\" class=\"dataframe\">\n",
       "  <thead>\n",
       "    <tr style=\"text-align: right;\">\n",
       "      <th></th>\n",
       "      <th>height</th>\n",
       "      <th>weight</th>\n",
       "      <th>age</th>\n",
       "      <th>grip_strength</th>\n",
       "      <th>frailty</th>\n",
       "    </tr>\n",
       "  </thead>\n",
       "  <tbody>\n",
       "    <tr>\n",
       "      <th>0</th>\n",
       "      <td>65.8</td>\n",
       "      <td>112</td>\n",
       "      <td>30</td>\n",
       "      <td>30</td>\n",
       "      <td>N</td>\n",
       "    </tr>\n",
       "    <tr>\n",
       "      <th>1</th>\n",
       "      <td>71.5</td>\n",
       "      <td>136</td>\n",
       "      <td>19</td>\n",
       "      <td>31</td>\n",
       "      <td>N</td>\n",
       "    </tr>\n",
       "    <tr>\n",
       "      <th>2</th>\n",
       "      <td>69.4</td>\n",
       "      <td>153</td>\n",
       "      <td>45</td>\n",
       "      <td>29</td>\n",
       "      <td>N</td>\n",
       "    </tr>\n",
       "    <tr>\n",
       "      <th>3</th>\n",
       "      <td>68.2</td>\n",
       "      <td>142</td>\n",
       "      <td>22</td>\n",
       "      <td>28</td>\n",
       "      <td>Y</td>\n",
       "    </tr>\n",
       "    <tr>\n",
       "      <th>4</th>\n",
       "      <td>67.8</td>\n",
       "      <td>144</td>\n",
       "      <td>29</td>\n",
       "      <td>24</td>\n",
       "      <td>Y</td>\n",
       "    </tr>\n",
       "  </tbody>\n",
       "</table>\n",
       "</div>"
      ],
      "text/plain": [
       "  height weight age grip_strength frailty\n",
       "0   65.8    112  30            30       N\n",
       "1   71.5    136  19            31       N\n",
       "2   69.4    153  45            29       N\n",
       "3   68.2    142  22            28       Y\n",
       "4   67.8    144  29            24       Y"
      ]
     },
     "execution_count": 70,
     "metadata": {},
     "output_type": "execute_result"
    }
   ],
   "source": [
    "raw_data.head()"
   ]
  },
  {
   "cell_type": "code",
   "execution_count": 71,
   "id": "d0a87a77",
   "metadata": {},
   "outputs": [],
   "source": [
    "raw_data.frailty=raw_data.frailty.map(dict(Y=1, N=0))"
   ]
  },
  {
   "cell_type": "code",
   "execution_count": 72,
   "id": "234bd9f0",
   "metadata": {},
   "outputs": [
    {
     "data": {
      "text/html": [
       "<div>\n",
       "<style scoped>\n",
       "    .dataframe tbody tr th:only-of-type {\n",
       "        vertical-align: middle;\n",
       "    }\n",
       "\n",
       "    .dataframe tbody tr th {\n",
       "        vertical-align: top;\n",
       "    }\n",
       "\n",
       "    .dataframe thead th {\n",
       "        text-align: right;\n",
       "    }\n",
       "</style>\n",
       "<table border=\"1\" class=\"dataframe\">\n",
       "  <thead>\n",
       "    <tr style=\"text-align: right;\">\n",
       "      <th></th>\n",
       "      <th>height</th>\n",
       "      <th>weight</th>\n",
       "      <th>age</th>\n",
       "      <th>grip_strength</th>\n",
       "      <th>frailty</th>\n",
       "    </tr>\n",
       "  </thead>\n",
       "  <tbody>\n",
       "    <tr>\n",
       "      <th>0</th>\n",
       "      <td>65.8</td>\n",
       "      <td>112</td>\n",
       "      <td>30</td>\n",
       "      <td>30</td>\n",
       "      <td>0</td>\n",
       "    </tr>\n",
       "    <tr>\n",
       "      <th>1</th>\n",
       "      <td>71.5</td>\n",
       "      <td>136</td>\n",
       "      <td>19</td>\n",
       "      <td>31</td>\n",
       "      <td>0</td>\n",
       "    </tr>\n",
       "    <tr>\n",
       "      <th>2</th>\n",
       "      <td>69.4</td>\n",
       "      <td>153</td>\n",
       "      <td>45</td>\n",
       "      <td>29</td>\n",
       "      <td>0</td>\n",
       "    </tr>\n",
       "    <tr>\n",
       "      <th>3</th>\n",
       "      <td>68.2</td>\n",
       "      <td>142</td>\n",
       "      <td>22</td>\n",
       "      <td>28</td>\n",
       "      <td>1</td>\n",
       "    </tr>\n",
       "    <tr>\n",
       "      <th>4</th>\n",
       "      <td>67.8</td>\n",
       "      <td>144</td>\n",
       "      <td>29</td>\n",
       "      <td>24</td>\n",
       "      <td>1</td>\n",
       "    </tr>\n",
       "  </tbody>\n",
       "</table>\n",
       "</div>"
      ],
      "text/plain": [
       "  height weight age grip_strength  frailty\n",
       "0   65.8    112  30            30        0\n",
       "1   71.5    136  19            31        0\n",
       "2   69.4    153  45            29        0\n",
       "3   68.2    142  22            28        1\n",
       "4   67.8    144  29            24        1"
      ]
     },
     "execution_count": 72,
     "metadata": {},
     "output_type": "execute_result"
    }
   ],
   "source": [
    "raw_data.head()"
   ]
  },
  {
   "cell_type": "code",
   "execution_count": 77,
   "id": "e225dd07",
   "metadata": {},
   "outputs": [],
   "source": [
    "#displaying contents to csv\n",
    "raw_data.to_csv('Downloads/pds-assignment-master/Q1/data_clean/clean_frailty.csv')"
   ]
  },
  {
   "cell_type": "code",
   "execution_count": null,
   "id": "4f39840c",
   "metadata": {},
   "outputs": [],
   "source": []
  }
 ],
 "metadata": {
  "kernelspec": {
   "display_name": "Python 3 (ipykernel)",
   "language": "python",
   "name": "python3"
  },
  "language_info": {
   "codemirror_mode": {
    "name": "ipython",
    "version": 3
   },
   "file_extension": ".py",
   "mimetype": "text/x-python",
   "name": "python",
   "nbconvert_exporter": "python",
   "pygments_lexer": "ipython3",
   "version": "3.11.4"
  }
 },
 "nbformat": 4,
 "nbformat_minor": 5
}
